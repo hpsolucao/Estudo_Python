{
  "nbformat": 4,
  "nbformat_minor": 0,
  "metadata": {
    "kernelspec": {
      "display_name": "Python 3",
      "language": "python",
      "name": "python3"
    },
    "language_info": {
      "codemirror_mode": {
        "name": "ipython",
        "version": 3
      },
      "file_extension": ".py",
      "mimetype": "text/x-python",
      "name": "python",
      "nbconvert_exporter": "python",
      "pygments_lexer": "ipython3",
      "version": "3.7.3"
    },
    "colab": {
      "name": "Dominando o Python - Aulas 02,03,04,05,06,07.ipynb",
      "provenance": [],
      "toc_visible": true,
      "include_colab_link": true
    }
  },
  "cells": [
    {
      "cell_type": "markdown",
      "metadata": {
        "id": "view-in-github",
        "colab_type": "text"
      },
      "source": [
        "<a href=\"https://colab.research.google.com/github/hpsolucao/Estudo_Python/blob/master/Dominando_o_Python_Aulas_02%2C03%2C04%2C05%2C06%2C07.ipynb\" target=\"_parent\"><img src=\"https://colab.research.google.com/assets/colab-badge.svg\" alt=\"Open In Colab\"/></a>"
      ]
    },
    {
      "cell_type": "markdown",
      "metadata": {
        "id": "Tv3B39Yn6sbr",
        "colab_type": "text"
      },
      "source": [
        "# MinerandoDados - Linguagem Python"
      ]
    },
    {
      "cell_type": "code",
      "metadata": {
        "id": "fCOiwYby6sbs",
        "colab_type": "code",
        "colab": {}
      },
      "source": [
        "# Esse é um comentário"
      ],
      "execution_count": null,
      "outputs": []
    },
    {
      "cell_type": "code",
      "metadata": {
        "id": "tguAcM726sby",
        "colab_type": "code",
        "colab": {
          "base_uri": "https://localhost:8080/",
          "height": 34
        },
        "outputId": "92f85c5b-4335-4dc5-cfa8-79972e624eac"
      },
      "source": [
        "print ('Hello World')"
      ],
      "execution_count": null,
      "outputs": [
        {
          "output_type": "stream",
          "text": [
            "Hello World\n"
          ],
          "name": "stdout"
        }
      ]
    },
    {
      "cell_type": "code",
      "metadata": {
        "id": "IDIlTREj6sb1",
        "colab_type": "code",
        "colab": {
          "base_uri": "https://localhost:8080/",
          "height": 35
        },
        "outputId": "37063fad-d4f6-4a77-a661-f60205cfc94f"
      },
      "source": [
        "'Hello World'"
      ],
      "execution_count": null,
      "outputs": [
        {
          "output_type": "execute_result",
          "data": {
            "application/vnd.google.colaboratory.intrinsic+json": {
              "type": "string"
            },
            "text/plain": [
              "'Hello World'"
            ]
          },
          "metadata": {
            "tags": []
          },
          "execution_count": 3
        }
      ]
    },
    {
      "cell_type": "code",
      "metadata": {
        "id": "mvuWl-hh6sb6",
        "colab_type": "code",
        "colab": {}
      },
      "source": [
        "# Operações Matemáticas. Pressione CTRL + ENTER para executar a célula"
      ],
      "execution_count": null,
      "outputs": []
    },
    {
      "cell_type": "code",
      "metadata": {
        "id": "laCeme4g6sb-",
        "colab_type": "code",
        "colab": {}
      },
      "source": [
        "2 + 10"
      ],
      "execution_count": null,
      "outputs": []
    },
    {
      "cell_type": "code",
      "metadata": {
        "id": "56aSJ6lg6scB",
        "colab_type": "code",
        "colab": {}
      },
      "source": [
        "# Subtração"
      ],
      "execution_count": null,
      "outputs": []
    },
    {
      "cell_type": "code",
      "metadata": {
        "id": "lMWSIdgN6scI",
        "colab_type": "code",
        "colab": {}
      },
      "source": [
        "2 - 2"
      ],
      "execution_count": null,
      "outputs": []
    },
    {
      "cell_type": "code",
      "metadata": {
        "id": "aJ7X_QpE6scS",
        "colab_type": "code",
        "colab": {}
      },
      "source": [
        "# Multiplicação"
      ],
      "execution_count": null,
      "outputs": []
    },
    {
      "cell_type": "code",
      "metadata": {
        "id": "fimkb8U-6scV",
        "colab_type": "code",
        "colab": {}
      },
      "source": [
        " 2 * 2"
      ],
      "execution_count": null,
      "outputs": []
    },
    {
      "cell_type": "code",
      "metadata": {
        "id": "LZnZ-0oK6scY",
        "colab_type": "code",
        "colab": {}
      },
      "source": [
        "# Divisão"
      ],
      "execution_count": null,
      "outputs": []
    },
    {
      "cell_type": "code",
      "metadata": {
        "id": "jEJo3cg36scb",
        "colab_type": "code",
        "colab": {}
      },
      "source": [
        "2 / 2 "
      ],
      "execution_count": null,
      "outputs": []
    },
    {
      "cell_type": "code",
      "metadata": {
        "id": "m5yJg-lI6scf",
        "colab_type": "code",
        "colab": {}
      },
      "source": [
        "# Numeros Float"
      ],
      "execution_count": null,
      "outputs": []
    },
    {
      "cell_type": "code",
      "metadata": {
        "id": "vbNdq7H26scj",
        "colab_type": "code",
        "colab": {}
      },
      "source": [
        "3.2 + 6.6"
      ],
      "execution_count": null,
      "outputs": []
    },
    {
      "cell_type": "code",
      "metadata": {
        "id": "q4uUeC9e6scn",
        "colab_type": "code",
        "colab": {}
      },
      "source": [
        "8.8 / 2"
      ],
      "execution_count": null,
      "outputs": []
    },
    {
      "cell_type": "code",
      "metadata": {
        "id": "dYs-wpRh6sct",
        "colab_type": "code",
        "colab": {
          "base_uri": "https://localhost:8080/",
          "height": 34
        },
        "outputId": "f3172e05-903c-4428-a3cd-58694d2b7b60"
      },
      "source": [
        "10.2 * 2.5"
      ],
      "execution_count": null,
      "outputs": [
        {
          "output_type": "execute_result",
          "data": {
            "text/plain": [
              "25.5"
            ]
          },
          "metadata": {
            "tags": []
          },
          "execution_count": 4
        }
      ]
    },
    {
      "cell_type": "markdown",
      "metadata": {
        "collapsed": true,
        "id": "rSHS1V0y6scz",
        "colab_type": "text"
      },
      "source": [
        "# Funções no Python"
      ]
    },
    {
      "cell_type": "code",
      "metadata": {
        "id": "-fTlxowP6sc0",
        "colab_type": "code",
        "colab": {
          "base_uri": "https://localhost:8080/",
          "height": 34
        },
        "outputId": "27b592f3-cfdb-42b9-92f0-34bf85629129"
      },
      "source": [
        "type(5)"
      ],
      "execution_count": null,
      "outputs": [
        {
          "output_type": "execute_result",
          "data": {
            "text/plain": [
              "int"
            ]
          },
          "metadata": {
            "tags": []
          },
          "execution_count": 5
        }
      ]
    },
    {
      "cell_type": "code",
      "metadata": {
        "id": "Sbbtk0zp6sc4",
        "colab_type": "code",
        "colab": {
          "base_uri": "https://localhost:8080/",
          "height": 34
        },
        "outputId": "333b2434-16c0-4895-b6b2-34f95b6afe03"
      },
      "source": [
        "type(6.6)"
      ],
      "execution_count": null,
      "outputs": [
        {
          "output_type": "execute_result",
          "data": {
            "text/plain": [
              "float"
            ]
          },
          "metadata": {
            "tags": []
          },
          "execution_count": 6
        }
      ]
    },
    {
      "cell_type": "code",
      "metadata": {
        "id": "lZ38RNs06sc8",
        "colab_type": "code",
        "colab": {
          "base_uri": "https://localhost:8080/",
          "height": 34
        },
        "outputId": "4189ac9c-a8ee-42c1-eeca-df02f6b0e76a"
      },
      "source": [
        "type(\"Minerando Dados\")"
      ],
      "execution_count": null,
      "outputs": [
        {
          "output_type": "execute_result",
          "data": {
            "text/plain": [
              "str"
            ]
          },
          "metadata": {
            "tags": []
          },
          "execution_count": 7
        }
      ]
    },
    {
      "cell_type": "markdown",
      "metadata": {
        "collapsed": true,
        "id": "PveSAw6V6sdC",
        "colab_type": "text"
      },
      "source": [
        "# Funções de Conversão"
      ]
    },
    {
      "cell_type": "code",
      "metadata": {
        "id": "VB-ghcbV6sdE",
        "colab_type": "code",
        "colab": {
          "base_uri": "https://localhost:8080/",
          "height": 34
        },
        "outputId": "68538c6f-d0a4-4b2a-faad-f4829a8627db"
      },
      "source": [
        "int(6)"
      ],
      "execution_count": null,
      "outputs": [
        {
          "output_type": "execute_result",
          "data": {
            "text/plain": [
              "6"
            ]
          },
          "metadata": {
            "tags": []
          },
          "execution_count": 8
        }
      ]
    },
    {
      "cell_type": "code",
      "metadata": {
        "id": "st5PSHca6sdI",
        "colab_type": "code",
        "colab": {
          "base_uri": "https://localhost:8080/",
          "height": 34
        },
        "outputId": "aaecaa37-626f-426a-aadc-45d9828d4f71"
      },
      "source": [
        "int(6.5)"
      ],
      "execution_count": null,
      "outputs": [
        {
          "output_type": "execute_result",
          "data": {
            "text/plain": [
              "6"
            ]
          },
          "metadata": {
            "tags": []
          },
          "execution_count": 9
        }
      ]
    },
    {
      "cell_type": "code",
      "metadata": {
        "id": "D6cTeR4i6sdM",
        "colab_type": "code",
        "colab": {
          "base_uri": "https://localhost:8080/",
          "height": 34
        },
        "outputId": "93cead78-4acd-4aee-a706-9166c72b2848"
      },
      "source": [
        "float(6.5)"
      ],
      "execution_count": null,
      "outputs": [
        {
          "output_type": "execute_result",
          "data": {
            "text/plain": [
              "6.5"
            ]
          },
          "metadata": {
            "tags": []
          },
          "execution_count": 10
        }
      ]
    },
    {
      "cell_type": "code",
      "metadata": {
        "id": "T1T_UlNN6sdP",
        "colab_type": "code",
        "colab": {
          "base_uri": "https://localhost:8080/",
          "height": 34
        },
        "outputId": "94eb4d43-dd5d-4332-bca2-0b4c73c1278e"
      },
      "source": [
        "float(6)"
      ],
      "execution_count": null,
      "outputs": [
        {
          "output_type": "execute_result",
          "data": {
            "text/plain": [
              "6.0"
            ]
          },
          "metadata": {
            "tags": []
          },
          "execution_count": 11
        }
      ]
    },
    {
      "cell_type": "code",
      "metadata": {
        "id": "7Zht9ZH-6sdT",
        "colab_type": "code",
        "colab": {
          "base_uri": "https://localhost:8080/",
          "height": 35
        },
        "outputId": "54b43d12-7b5e-4f5e-b9dd-f94d689ce57c"
      },
      "source": [
        "str(5)"
      ],
      "execution_count": null,
      "outputs": [
        {
          "output_type": "execute_result",
          "data": {
            "application/vnd.google.colaboratory.intrinsic+json": {
              "type": "string"
            },
            "text/plain": [
              "'5'"
            ]
          },
          "metadata": {
            "tags": []
          },
          "execution_count": 12
        }
      ]
    },
    {
      "cell_type": "markdown",
      "metadata": {
        "collapsed": true,
        "id": "ELmqGpC96sdZ",
        "colab_type": "text"
      },
      "source": [
        "# Funções de Arredodamento"
      ]
    },
    {
      "cell_type": "code",
      "metadata": {
        "id": "J4t3OJxq6sda",
        "colab_type": "code",
        "colab": {
          "base_uri": "https://localhost:8080/",
          "height": 34
        },
        "outputId": "be77586d-9900-474e-8edc-a91518ec601d"
      },
      "source": [
        "round(2.898)"
      ],
      "execution_count": null,
      "outputs": [
        {
          "output_type": "execute_result",
          "data": {
            "text/plain": [
              "3"
            ]
          },
          "metadata": {
            "tags": []
          },
          "execution_count": 13
        }
      ]
    },
    {
      "cell_type": "code",
      "metadata": {
        "id": "kEwhkm0v6sde",
        "colab_type": "code",
        "colab": {
          "base_uri": "https://localhost:8080/",
          "height": 34
        },
        "outputId": "e1cf4080-94c6-49bb-cbaf-e65adb3090ad"
      },
      "source": [
        "round(2.4545455,3)"
      ],
      "execution_count": null,
      "outputs": [
        {
          "output_type": "execute_result",
          "data": {
            "text/plain": [
              "2.455"
            ]
          },
          "metadata": {
            "tags": []
          },
          "execution_count": 14
        }
      ]
    },
    {
      "cell_type": "markdown",
      "metadata": {
        "collapsed": true,
        "id": "kiHPFSFA6sdh",
        "colab_type": "text"
      },
      "source": [
        "# Trabalhando com Variáveis"
      ]
    },
    {
      "cell_type": "code",
      "metadata": {
        "id": "l7PewrWW6sdh",
        "colab_type": "code",
        "colab": {}
      },
      "source": [
        "var1 = 1\n",
        "var2 = 2 \n",
        "var3 = 3"
      ],
      "execution_count": null,
      "outputs": []
    },
    {
      "cell_type": "code",
      "metadata": {
        "id": "UzoUODNe6sdl",
        "colab_type": "code",
        "colab": {
          "base_uri": "https://localhost:8080/",
          "height": 34
        },
        "outputId": "25a57403-3830-4d8b-e72e-11d757b5a4ba"
      },
      "source": [
        "var1"
      ],
      "execution_count": null,
      "outputs": [
        {
          "output_type": "execute_result",
          "data": {
            "text/plain": [
              "1"
            ]
          },
          "metadata": {
            "tags": []
          },
          "execution_count": 17
        }
      ]
    },
    {
      "cell_type": "code",
      "metadata": {
        "id": "CD8I65bj6sdo",
        "colab_type": "code",
        "colab": {
          "base_uri": "https://localhost:8080/",
          "height": 34
        },
        "outputId": "d7c69248-e039-41b5-84ef-1fbfc9613821"
      },
      "source": [
        "type(var1)"
      ],
      "execution_count": null,
      "outputs": [
        {
          "output_type": "execute_result",
          "data": {
            "text/plain": [
              "int"
            ]
          },
          "metadata": {
            "tags": []
          },
          "execution_count": 18
        }
      ]
    },
    {
      "cell_type": "code",
      "metadata": {
        "id": "HWSvr58t6sdu",
        "colab_type": "code",
        "colab": {}
      },
      "source": [
        "var4 = 10"
      ],
      "execution_count": null,
      "outputs": []
    },
    {
      "cell_type": "code",
      "metadata": {
        "id": "ABoT1Zgt6sd1",
        "colab_type": "code",
        "colab": {
          "base_uri": "https://localhost:8080/",
          "height": 34
        },
        "outputId": "841fab3d-6f64-4b22-90fc-1ba3c3581783"
      },
      "source": [
        "var4"
      ],
      "execution_count": null,
      "outputs": [
        {
          "output_type": "execute_result",
          "data": {
            "text/plain": [
              "10"
            ]
          },
          "metadata": {
            "tags": []
          },
          "execution_count": 20
        }
      ]
    },
    {
      "cell_type": "code",
      "metadata": {
        "id": "dUnQ_sJZ6sd5",
        "colab_type": "code",
        "colab": {
          "base_uri": "https://localhost:8080/",
          "height": 34
        },
        "outputId": "ab3ef69a-d3c4-401f-e218-a38c2d46fd5e"
      },
      "source": [
        "var1 + var2"
      ],
      "execution_count": null,
      "outputs": [
        {
          "output_type": "execute_result",
          "data": {
            "text/plain": [
              "3"
            ]
          },
          "metadata": {
            "tags": []
          },
          "execution_count": 21
        }
      ]
    },
    {
      "cell_type": "code",
      "metadata": {
        "id": "SWHYpUns6sd-",
        "colab_type": "code",
        "colab": {}
      },
      "source": [
        "# Reatribuindo um valor a variável var1 graças a TIPAGEM DINÂMICA"
      ],
      "execution_count": null,
      "outputs": []
    },
    {
      "cell_type": "code",
      "metadata": {
        "id": "Qofyjy3V6seF",
        "colab_type": "code",
        "colab": {}
      },
      "source": [
        "var1 = 'Rock Forever'"
      ],
      "execution_count": null,
      "outputs": []
    },
    {
      "cell_type": "code",
      "metadata": {
        "id": "rYMmwVoP6seI",
        "colab_type": "code",
        "colab": {
          "base_uri": "https://localhost:8080/",
          "height": 34
        },
        "outputId": "7b3d95a6-cdb5-4753-854b-d5aa04854e38"
      },
      "source": [
        "type(var1)"
      ],
      "execution_count": null,
      "outputs": [
        {
          "output_type": "execute_result",
          "data": {
            "text/plain": [
              "str"
            ]
          },
          "metadata": {
            "tags": []
          },
          "execution_count": 23
        }
      ]
    },
    {
      "cell_type": "code",
      "metadata": {
        "id": "nghJ1MII6seN",
        "colab_type": "code",
        "colab": {}
      },
      "source": [
        "var2 = 6.78"
      ],
      "execution_count": null,
      "outputs": []
    },
    {
      "cell_type": "code",
      "metadata": {
        "id": "IEf28-rK6seQ",
        "colab_type": "code",
        "colab": {
          "base_uri": "https://localhost:8080/",
          "height": 34
        },
        "outputId": "3f4e6676-6d66-463a-868a-5869814f2e70"
      },
      "source": [
        "type(var2)"
      ],
      "execution_count": null,
      "outputs": [
        {
          "output_type": "execute_result",
          "data": {
            "text/plain": [
              "float"
            ]
          },
          "metadata": {
            "tags": []
          },
          "execution_count": 25
        }
      ]
    },
    {
      "cell_type": "markdown",
      "metadata": {
        "id": "Z6OY23ZJ6seU",
        "colab_type": "text"
      },
      "source": [
        "# Operacões Matemáticas e Variáveis"
      ]
    },
    {
      "cell_type": "code",
      "metadata": {
        "id": "qkilJ6Fs6seV",
        "colab_type": "code",
        "colab": {}
      },
      "source": [
        "resultado = var2 * 10"
      ],
      "execution_count": null,
      "outputs": []
    },
    {
      "cell_type": "code",
      "metadata": {
        "id": "2sKSTpMK6seb",
        "colab_type": "code",
        "colab": {
          "base_uri": "https://localhost:8080/",
          "height": 34
        },
        "outputId": "bf7e11fd-afd0-4e32-9c1c-3d812b8750ef"
      },
      "source": [
        "resultado"
      ],
      "execution_count": null,
      "outputs": [
        {
          "output_type": "execute_result",
          "data": {
            "text/plain": [
              "67.8"
            ]
          },
          "metadata": {
            "tags": []
          },
          "execution_count": 29
        }
      ]
    },
    {
      "cell_type": "code",
      "metadata": {
        "id": "9ljiDPew6sej",
        "colab_type": "code",
        "colab": {}
      },
      "source": [
        "resultado = 200 / 3"
      ],
      "execution_count": null,
      "outputs": []
    },
    {
      "cell_type": "code",
      "metadata": {
        "id": "8EHaBrhK6seo",
        "colab_type": "code",
        "colab": {
          "base_uri": "https://localhost:8080/",
          "height": 34
        },
        "outputId": "c0e80df1-0add-4da6-f971-370da9909545"
      },
      "source": [
        "resultado"
      ],
      "execution_count": null,
      "outputs": [
        {
          "output_type": "execute_result",
          "data": {
            "text/plain": [
              "66.66666666666667"
            ]
          },
          "metadata": {
            "tags": []
          },
          "execution_count": 31
        }
      ]
    },
    {
      "cell_type": "code",
      "metadata": {
        "id": "M5755Wnv6ses",
        "colab_type": "code",
        "colab": {}
      },
      "source": [
        "## Declarando vários valores a variaveis"
      ],
      "execution_count": null,
      "outputs": []
    },
    {
      "cell_type": "code",
      "metadata": {
        "id": "Pbjs47FA6sew",
        "colab_type": "code",
        "colab": {}
      },
      "source": [
        "variavel1, variavel2 = 1, 'Teste'"
      ],
      "execution_count": null,
      "outputs": []
    },
    {
      "cell_type": "code",
      "metadata": {
        "id": "tCC7ssnD6se2",
        "colab_type": "code",
        "colab": {
          "base_uri": "https://localhost:8080/",
          "height": 34
        },
        "outputId": "ab5a409d-cb72-4e55-dc53-e7948d96f30f"
      },
      "source": [
        "variavel1"
      ],
      "execution_count": null,
      "outputs": [
        {
          "output_type": "execute_result",
          "data": {
            "text/plain": [
              "1"
            ]
          },
          "metadata": {
            "tags": []
          },
          "execution_count": 34
        }
      ]
    },
    {
      "cell_type": "code",
      "metadata": {
        "id": "afp0QcIr6se8",
        "colab_type": "code",
        "colab": {
          "base_uri": "https://localhost:8080/",
          "height": 35
        },
        "outputId": "2daf59a0-5f17-4d1b-f920-9c3a3b8f4769"
      },
      "source": [
        "variavel2"
      ],
      "execution_count": null,
      "outputs": [
        {
          "output_type": "execute_result",
          "data": {
            "application/vnd.google.colaboratory.intrinsic+json": {
              "type": "string"
            },
            "text/plain": [
              "'Teste'"
            ]
          },
          "metadata": {
            "tags": []
          },
          "execution_count": 35
        }
      ]
    },
    {
      "cell_type": "markdown",
      "metadata": {
        "id": "V4FgbLbO6se_",
        "colab_type": "text"
      },
      "source": [
        "# Restrições para criação de variáveis"
      ]
    },
    {
      "cell_type": "code",
      "metadata": {
        "id": "XcGxHb8V6sfA",
        "colab_type": "code",
        "colab": {}
      },
      "source": [
        "variavel_teste = 2"
      ],
      "execution_count": null,
      "outputs": []
    },
    {
      "cell_type": "code",
      "metadata": {
        "id": "7H5zLjBg6sfD",
        "colab_type": "code",
        "colab": {
          "base_uri": "https://localhost:8080/",
          "height": 34
        },
        "outputId": "98b23ede-2a7d-4e67-ab1d-d7337811fe67"
      },
      "source": [
        "variavel_teste"
      ],
      "execution_count": null,
      "outputs": [
        {
          "output_type": "execute_result",
          "data": {
            "text/plain": [
              "2"
            ]
          },
          "metadata": {
            "tags": []
          },
          "execution_count": 41
        }
      ]
    },
    {
      "cell_type": "code",
      "metadata": {
        "id": "vKH0kpdm6sfI",
        "colab_type": "code",
        "colab": {}
      },
      "source": [
        "var2 = 10"
      ],
      "execution_count": null,
      "outputs": []
    },
    {
      "cell_type": "code",
      "metadata": {
        "id": "85QmH-dO6sfM",
        "colab_type": "code",
        "colab": {
          "base_uri": "https://localhost:8080/",
          "height": 129
        },
        "outputId": "b66aeb8a-d8b5-413d-ae05-a7e963d4f845"
      },
      "source": [
        "for= 5"
      ],
      "execution_count": null,
      "outputs": [
        {
          "output_type": "error",
          "ename": "SyntaxError",
          "evalue": "ignored",
          "traceback": [
            "\u001b[0;36m  File \u001b[0;32m\"<ipython-input-43-c01d204f141b>\"\u001b[0;36m, line \u001b[0;32m1\u001b[0m\n\u001b[0;31m    for= 5\u001b[0m\n\u001b[0m       ^\u001b[0m\n\u001b[0;31mSyntaxError\u001b[0m\u001b[0;31m:\u001b[0m invalid syntax\n"
          ]
        }
      ]
    },
    {
      "cell_type": "code",
      "metadata": {
        "id": "nvqim_3x6sfR",
        "colab_type": "code",
        "colab": {}
      },
      "source": [
        "# Palavras Reservadas não são permitidas: break, if, else, print etc..."
      ],
      "execution_count": null,
      "outputs": []
    },
    {
      "cell_type": "markdown",
      "metadata": {
        "id": "D088JH646sfX",
        "colab_type": "text"
      },
      "source": [
        "# Trabalhando com Strings"
      ]
    },
    {
      "cell_type": "code",
      "metadata": {
        "id": "lhs3KtWt6sfZ",
        "colab_type": "code",
        "colab": {}
      },
      "source": [
        "# Criando uma variável do tipo String"
      ],
      "execution_count": null,
      "outputs": []
    },
    {
      "cell_type": "code",
      "metadata": {
        "id": "gQE97zec6sfh",
        "colab_type": "code",
        "colab": {}
      },
      "source": [
        "frase = 'Python eh uma linguagem sensacional'"
      ],
      "execution_count": null,
      "outputs": []
    },
    {
      "cell_type": "code",
      "metadata": {
        "id": "q7LRHd606sfs",
        "colab_type": "code",
        "colab": {
          "base_uri": "https://localhost:8080/",
          "height": 35
        },
        "outputId": "193d35a7-4c79-4080-e7d1-0d521be8dd7e"
      },
      "source": [
        "frase"
      ],
      "execution_count": null,
      "outputs": [
        {
          "output_type": "execute_result",
          "data": {
            "application/vnd.google.colaboratory.intrinsic+json": {
              "type": "string"
            },
            "text/plain": [
              "'Python eh uma linguagem sensacional'"
            ]
          },
          "metadata": {
            "tags": []
          },
          "execution_count": 46
        }
      ]
    },
    {
      "cell_type": "code",
      "metadata": {
        "id": "-_-s0uTQ6sfz",
        "colab_type": "code",
        "colab": {}
      },
      "source": [
        "# Indexando Strings."
      ],
      "execution_count": null,
      "outputs": []
    },
    {
      "cell_type": "code",
      "metadata": {
        "id": "YPD0OI3f6sf3",
        "colab_type": "code",
        "colab": {
          "base_uri": "https://localhost:8080/",
          "height": 35
        },
        "outputId": "dfddb231-7442-4737-f9ab-a6cdb65a500e"
      },
      "source": [
        "# Importante!! o índice começa com o numero 0.\n",
        "frase[0]"
      ],
      "execution_count": null,
      "outputs": [
        {
          "output_type": "execute_result",
          "data": {
            "application/vnd.google.colaboratory.intrinsic+json": {
              "type": "string"
            },
            "text/plain": [
              "'P'"
            ]
          },
          "metadata": {
            "tags": []
          },
          "execution_count": 47
        }
      ]
    },
    {
      "cell_type": "code",
      "metadata": {
        "id": "116oGEj16sf5",
        "colab_type": "code",
        "colab": {
          "base_uri": "https://localhost:8080/",
          "height": 35
        },
        "outputId": "1397c8ce-e1ca-4ce7-a08b-d75d17f3c372"
      },
      "source": [
        "frase[1]"
      ],
      "execution_count": null,
      "outputs": [
        {
          "output_type": "execute_result",
          "data": {
            "application/vnd.google.colaboratory.intrinsic+json": {
              "type": "string"
            },
            "text/plain": [
              "'y'"
            ]
          },
          "metadata": {
            "tags": []
          },
          "execution_count": 48
        }
      ]
    },
    {
      "cell_type": "code",
      "metadata": {
        "id": "isMm96Yg6sf9",
        "colab_type": "code",
        "colab": {
          "base_uri": "https://localhost:8080/",
          "height": 163
        },
        "outputId": "cc2915d3-d05f-43ea-d477-a5da0855b52f"
      },
      "source": [
        "frase[0] = 'R'"
      ],
      "execution_count": null,
      "outputs": [
        {
          "output_type": "error",
          "ename": "TypeError",
          "evalue": "ignored",
          "traceback": [
            "\u001b[0;31m---------------------------------------------------------------------------\u001b[0m",
            "\u001b[0;31mTypeError\u001b[0m                                 Traceback (most recent call last)",
            "\u001b[0;32m<ipython-input-49-325ff18d181a>\u001b[0m in \u001b[0;36m<module>\u001b[0;34m()\u001b[0m\n\u001b[0;32m----> 1\u001b[0;31m \u001b[0mfrase\u001b[0m\u001b[0;34m[\u001b[0m\u001b[0;36m0\u001b[0m\u001b[0;34m]\u001b[0m \u001b[0;34m=\u001b[0m \u001b[0;34m'R'\u001b[0m\u001b[0;34m\u001b[0m\u001b[0;34m\u001b[0m\u001b[0m\n\u001b[0m",
            "\u001b[0;31mTypeError\u001b[0m: 'str' object does not support item assignment"
          ]
        }
      ]
    },
    {
      "cell_type": "code",
      "metadata": {
        "id": "6185FC796sgD",
        "colab_type": "code",
        "colab": {}
      },
      "source": [
        "# Slicing: Percorrendo Strings"
      ],
      "execution_count": null,
      "outputs": []
    },
    {
      "cell_type": "code",
      "metadata": {
        "id": "ytLdtEs_6sgG",
        "colab_type": "code",
        "colab": {}
      },
      "source": [
        "frase[0:6]"
      ],
      "execution_count": null,
      "outputs": []
    },
    {
      "cell_type": "code",
      "metadata": {
        "id": "Z87fXDP-6sgI",
        "colab_type": "code",
        "colab": {}
      },
      "source": [
        "frase[6:]"
      ],
      "execution_count": null,
      "outputs": []
    },
    {
      "cell_type": "code",
      "metadata": {
        "id": "OX2Zj1ga6sgK",
        "colab_type": "code",
        "colab": {}
      },
      "source": [
        "frase[:6]"
      ],
      "execution_count": null,
      "outputs": []
    },
    {
      "cell_type": "code",
      "metadata": {
        "id": "7usqi9o56sgO",
        "colab_type": "code",
        "colab": {}
      },
      "source": [
        "# Concatennado Strings"
      ],
      "execution_count": null,
      "outputs": []
    },
    {
      "cell_type": "code",
      "metadata": {
        "id": "hBNaoS1T6sgS",
        "colab_type": "code",
        "colab": {}
      },
      "source": [
        "frase1 = 'Python eh uma linguagem fenomenal'"
      ],
      "execution_count": null,
      "outputs": []
    },
    {
      "cell_type": "code",
      "metadata": {
        "id": "Z9L9VPGO6sgZ",
        "colab_type": "code",
        "colab": {}
      },
      "source": [
        "frase2 = ' para qualquer cientista de dados'"
      ],
      "execution_count": null,
      "outputs": []
    },
    {
      "cell_type": "code",
      "metadata": {
        "id": "sBzAvgBn6sgd",
        "colab_type": "code",
        "colab": {}
      },
      "source": [
        "frase3 = frase1 + frase2"
      ],
      "execution_count": null,
      "outputs": []
    },
    {
      "cell_type": "code",
      "metadata": {
        "id": "2EMNtBOp6sgh",
        "colab_type": "code",
        "colab": {}
      },
      "source": [
        "# Objeto String - Métodos"
      ],
      "execution_count": null,
      "outputs": []
    },
    {
      "cell_type": "code",
      "metadata": {
        "id": "nCLiuf9E6sgk",
        "colab_type": "code",
        "colab": {}
      },
      "source": [
        "frase = 'Minerando Dados a maior comunidade de Data Science do Brasil.'"
      ],
      "execution_count": null,
      "outputs": []
    },
    {
      "cell_type": "code",
      "metadata": {
        "id": "hFxjed706sgr",
        "colab_type": "code",
        "colab": {}
      },
      "source": [
        "frase.count('Dados')"
      ],
      "execution_count": null,
      "outputs": []
    },
    {
      "cell_type": "code",
      "metadata": {
        "id": "5RekVAiO6sgu",
        "colab_type": "code",
        "colab": {}
      },
      "source": [
        "# A função lower()"
      ],
      "execution_count": null,
      "outputs": []
    },
    {
      "cell_type": "code",
      "metadata": {
        "id": "C8z6Yw1v6sgx",
        "colab_type": "code",
        "colab": {}
      },
      "source": [
        "frase.lower()"
      ],
      "execution_count": null,
      "outputs": []
    },
    {
      "cell_type": "code",
      "metadata": {
        "id": "GpTygYXg6sg1",
        "colab_type": "code",
        "colab": {}
      },
      "source": [
        "frase.upper()"
      ],
      "execution_count": null,
      "outputs": []
    },
    {
      "cell_type": "code",
      "metadata": {
        "id": "30ia0_s46sg5",
        "colab_type": "code",
        "colab": {}
      },
      "source": [
        "frase.capitalize()"
      ],
      "execution_count": null,
      "outputs": []
    },
    {
      "cell_type": "code",
      "metadata": {
        "id": "6bqGERnT6sg8",
        "colab_type": "code",
        "colab": {}
      },
      "source": [
        "frase.islower()"
      ],
      "execution_count": null,
      "outputs": []
    },
    {
      "cell_type": "code",
      "metadata": {
        "id": "YO9zlvyA6sg_",
        "colab_type": "code",
        "colab": {}
      },
      "source": [
        "# Quebrando a string em uma lista de termos\n",
        "frase.split()"
      ],
      "execution_count": null,
      "outputs": []
    },
    {
      "cell_type": "markdown",
      "metadata": {
        "id": "sPnh00JG6shC",
        "colab_type": "text"
      },
      "source": [
        "# Trabalhando com Listas"
      ]
    },
    {
      "cell_type": "code",
      "metadata": {
        "id": "YrHMHq7W6shC",
        "colab_type": "code",
        "colab": {}
      },
      "source": [
        "# Sintaxe para criar listas no Python\n",
        "bixos = [1,2,3]\n",
        "bixos"
      ],
      "execution_count": null,
      "outputs": []
    },
    {
      "cell_type": "code",
      "metadata": {
        "collapsed": true,
        "id": "trFL3gF96shH",
        "colab_type": "code",
        "colab": {}
      },
      "source": [
        "# listas com tipos de dados diferentes\n",
        "bixos = ['dog','cat',122344545,13.9,[0,0,1]]"
      ],
      "execution_count": null,
      "outputs": []
    },
    {
      "cell_type": "code",
      "metadata": {
        "id": "4wDqTgrr6shK",
        "colab_type": "code",
        "colab": {}
      },
      "source": [
        "bixos"
      ],
      "execution_count": null,
      "outputs": []
    },
    {
      "cell_type": "code",
      "metadata": {
        "collapsed": true,
        "id": "zRGKcqko6shM",
        "colab_type": "code",
        "colab": {}
      },
      "source": [
        "# Indices de elementos"
      ],
      "execution_count": null,
      "outputs": []
    },
    {
      "cell_type": "code",
      "metadata": {
        "id": "gUkpjP3H6shP",
        "colab_type": "code",
        "colab": {}
      },
      "source": [
        "bixos[0]"
      ],
      "execution_count": null,
      "outputs": []
    },
    {
      "cell_type": "code",
      "metadata": {
        "id": "GRvWclBy6shT",
        "colab_type": "code",
        "colab": {}
      },
      "source": [
        "bixos[3]"
      ],
      "execution_count": null,
      "outputs": []
    },
    {
      "cell_type": "code",
      "metadata": {
        "collapsed": true,
        "id": "bSJk9AsF6shW",
        "colab_type": "code",
        "colab": {}
      },
      "source": [
        "# Atualizando o valor 1 da lista\n",
        "bixos[0] = 'Horse'"
      ],
      "execution_count": null,
      "outputs": []
    },
    {
      "cell_type": "code",
      "metadata": {
        "id": "sJrHx89q6shZ",
        "colab_type": "code",
        "colab": {}
      },
      "source": [
        "bixos"
      ],
      "execution_count": null,
      "outputs": []
    },
    {
      "cell_type": "code",
      "metadata": {
        "collapsed": true,
        "id": "TCvejKmG6shc",
        "colab_type": "code",
        "colab": {}
      },
      "source": [
        "# Slicing em Listas"
      ],
      "execution_count": null,
      "outputs": []
    },
    {
      "cell_type": "code",
      "metadata": {
        "id": "dAee2mow6shf",
        "colab_type": "code",
        "colab": {}
      },
      "source": [
        "bixos[1:]"
      ],
      "execution_count": null,
      "outputs": []
    },
    {
      "cell_type": "code",
      "metadata": {
        "id": "HPsuiDpS6shi",
        "colab_type": "code",
        "colab": {}
      },
      "source": [
        "# removendo elementos\n",
        "bixos.remove('cat')"
      ],
      "execution_count": null,
      "outputs": []
    },
    {
      "cell_type": "code",
      "metadata": {
        "id": "C1sGv5li6shk",
        "colab_type": "code",
        "colab": {}
      },
      "source": [
        "bixos"
      ],
      "execution_count": null,
      "outputs": []
    },
    {
      "cell_type": "markdown",
      "metadata": {
        "id": "2EFcZC796sho",
        "colab_type": "text"
      },
      "source": [
        "# Operações em Listas"
      ]
    },
    {
      "cell_type": "code",
      "metadata": {
        "id": "6b4fV7mY6sho",
        "colab_type": "code",
        "colab": {}
      },
      "source": [
        "len(bixos)"
      ],
      "execution_count": null,
      "outputs": []
    },
    {
      "cell_type": "code",
      "metadata": {
        "collapsed": true,
        "id": "12ql-NiN6sht",
        "colab_type": "code",
        "colab": {}
      },
      "source": [
        "# Concatenando listas"
      ],
      "execution_count": null,
      "outputs": []
    },
    {
      "cell_type": "code",
      "metadata": {
        "id": "R4HQxj3R6shv",
        "colab_type": "code",
        "colab": {}
      },
      "source": [
        "bixos + [200,'Minerando','Dados']"
      ],
      "execution_count": null,
      "outputs": []
    },
    {
      "cell_type": "code",
      "metadata": {
        "collapsed": true,
        "id": "qKdgF5EQ6shy",
        "colab_type": "code",
        "colab": {}
      },
      "source": [
        "# Check elementos"
      ],
      "execution_count": null,
      "outputs": []
    },
    {
      "cell_type": "code",
      "metadata": {
        "id": "oDeHS1s46shz",
        "colab_type": "code",
        "colab": {}
      },
      "source": [
        "'cat' in bixos"
      ],
      "execution_count": null,
      "outputs": []
    },
    {
      "cell_type": "code",
      "metadata": {
        "collapsed": true,
        "id": "9py-donh6sh1",
        "colab_type": "code",
        "colab": {}
      },
      "source": [
        "# Valor máximo da lista"
      ],
      "execution_count": null,
      "outputs": []
    },
    {
      "cell_type": "code",
      "metadata": {
        "id": "mL7t6Yh16sh2",
        "colab_type": "code",
        "colab": {}
      },
      "source": [
        "max(bixos)"
      ],
      "execution_count": null,
      "outputs": []
    },
    {
      "cell_type": "code",
      "metadata": {
        "collapsed": true,
        "id": "DiYQlKn06sh8",
        "colab_type": "code",
        "colab": {}
      },
      "source": [
        "lista = [1,500,23,90,56788]"
      ],
      "execution_count": null,
      "outputs": []
    },
    {
      "cell_type": "code",
      "metadata": {
        "id": "zsR8Hs_c6sh-",
        "colab_type": "code",
        "colab": {}
      },
      "source": [
        "max(lista)"
      ],
      "execution_count": null,
      "outputs": []
    },
    {
      "cell_type": "code",
      "metadata": {
        "collapsed": true,
        "id": "h-1L_n3l6siB",
        "colab_type": "code",
        "colab": {}
      },
      "source": [
        "# Valor mínimo da Lista"
      ],
      "execution_count": null,
      "outputs": []
    },
    {
      "cell_type": "code",
      "metadata": {
        "id": "uMjYCZ046siE",
        "colab_type": "code",
        "colab": {}
      },
      "source": [
        "min(lista)"
      ],
      "execution_count": null,
      "outputs": []
    },
    {
      "cell_type": "code",
      "metadata": {
        "collapsed": true,
        "id": "jp0e-sj_6siH",
        "colab_type": "code",
        "colab": {}
      },
      "source": [
        "# Multiplicação de Elementos"
      ],
      "execution_count": null,
      "outputs": []
    },
    {
      "cell_type": "code",
      "metadata": {
        "id": "_NZwXHZp6siK",
        "colab_type": "code",
        "colab": {}
      },
      "source": [
        "['Olá'] * 3"
      ],
      "execution_count": null,
      "outputs": []
    },
    {
      "cell_type": "markdown",
      "metadata": {
        "id": "2VES6UG_6siM",
        "colab_type": "text"
      },
      "source": [
        "# Métodos em Listas"
      ]
    },
    {
      "cell_type": "code",
      "metadata": {
        "id": "2dkQuUJZ6siN",
        "colab_type": "code",
        "colab": {}
      },
      "source": [
        "# È possivel visualizar os métodos existentes do objeto lista (digite o nome do objeto + . + tab)\n",
        "bixos."
      ],
      "execution_count": null,
      "outputs": []
    },
    {
      "cell_type": "code",
      "metadata": {
        "collapsed": true,
        "id": "bChrPgXD6siS",
        "colab_type": "code",
        "colab": {}
      },
      "source": [
        "# Adiciona elemento na lista\n",
        "bixos.append('snake')"
      ],
      "execution_count": null,
      "outputs": []
    },
    {
      "cell_type": "code",
      "metadata": {
        "id": "QAlf4CON6siU",
        "colab_type": "code",
        "colab": {}
      },
      "source": [
        "bixos"
      ],
      "execution_count": null,
      "outputs": []
    },
    {
      "cell_type": "code",
      "metadata": {
        "id": "iIusGN7d6siV",
        "colab_type": "code",
        "colab": {}
      },
      "source": [
        "# Extende a lista com mais de um elemento.\n",
        "bixos.extend(['lion',10.5])\n",
        "bixos"
      ],
      "execution_count": null,
      "outputs": []
    },
    {
      "cell_type": "code",
      "metadata": {
        "id": "9-6d6fQI6siY",
        "colab_type": "code",
        "colab": {}
      },
      "source": [
        "bixos.index('snake')"
      ],
      "execution_count": null,
      "outputs": []
    },
    {
      "cell_type": "code",
      "metadata": {
        "collapsed": true,
        "id": "71XdOTSw6sic",
        "colab_type": "code",
        "colab": {}
      },
      "source": [
        "bixos.remove('snake')"
      ],
      "execution_count": null,
      "outputs": []
    },
    {
      "cell_type": "code",
      "metadata": {
        "id": "Neo-qqau6sif",
        "colab_type": "code",
        "colab": {}
      },
      "source": [
        "bixos.count('dog')"
      ],
      "execution_count": null,
      "outputs": []
    },
    {
      "cell_type": "code",
      "metadata": {
        "id": "m196Uy9u6sik",
        "colab_type": "code",
        "colab": {}
      },
      "source": [
        "bixos.sort()"
      ],
      "execution_count": null,
      "outputs": []
    },
    {
      "cell_type": "code",
      "metadata": {
        "collapsed": true,
        "id": "sTdgdJJR6sil",
        "colab_type": "code",
        "colab": {}
      },
      "source": [
        "# Ordenação de lista de inteiros\n",
        "lista = [1,500,23,90,56788]\n",
        "lista2 = ['casa','rio','lua','agua']"
      ],
      "execution_count": null,
      "outputs": []
    },
    {
      "cell_type": "code",
      "metadata": {
        "id": "i8UikP946sin",
        "colab_type": "code",
        "colab": {}
      },
      "source": [
        "lista.sort()\n",
        "lista"
      ],
      "execution_count": null,
      "outputs": []
    },
    {
      "cell_type": "markdown",
      "metadata": {
        "id": "HLzfEWPG6siq",
        "colab_type": "text"
      },
      "source": [
        "# Lista Aninhadas"
      ]
    },
    {
      "cell_type": "code",
      "metadata": {
        "id": "IXlSC8mO6siq",
        "colab_type": "code",
        "colab": {}
      },
      "source": [
        "# lista que contém 3 listas\n",
        "listas = [ ['cat','dog','snake'], ['Audi','Ferrari','Porsche'], [10,100,200] ]"
      ],
      "execution_count": null,
      "outputs": []
    },
    {
      "cell_type": "code",
      "metadata": {
        "id": "BfFXtSbx6sis",
        "colab_type": "code",
        "colab": {},
        "outputId": "d51d9bc7-f347-4f3b-f250-8065ef11a909"
      },
      "source": [
        "listas"
      ],
      "execution_count": null,
      "outputs": [
        {
          "output_type": "execute_result",
          "data": {
            "text/plain": [
              "[['cat', 'dog', 'snake'], ['Audi', 'Ferrari', 'Porsche'], [10, 100, 200]]"
            ]
          },
          "metadata": {
            "tags": []
          },
          "execution_count": 2
        }
      ]
    },
    {
      "cell_type": "code",
      "metadata": {
        "id": "oczm75KQ6siw",
        "colab_type": "code",
        "colab": {},
        "outputId": "5e7192e2-9fc0-4dc7-f3b4-7e20bc36dfc2"
      },
      "source": [
        "# Imprimindo o primeiro elemento (lista de animais)\n",
        "listas[0]"
      ],
      "execution_count": null,
      "outputs": [
        {
          "output_type": "execute_result",
          "data": {
            "text/plain": [
              "['cat', 'dog', 'snake']"
            ]
          },
          "metadata": {
            "tags": []
          },
          "execution_count": 3
        }
      ]
    },
    {
      "cell_type": "code",
      "metadata": {
        "id": "IrmrlXWH6siy",
        "colab_type": "code",
        "colab": {},
        "outputId": "7c25c131-e94e-401e-c9c8-33d77a263998"
      },
      "source": [
        "# Imprimindo o segundo elemento (lista de carros)\n",
        "listas[1]"
      ],
      "execution_count": null,
      "outputs": [
        {
          "output_type": "execute_result",
          "data": {
            "text/plain": [
              "['Audi', 'Ferrari', 'Porsche']"
            ]
          },
          "metadata": {
            "tags": []
          },
          "execution_count": 4
        }
      ]
    },
    {
      "cell_type": "code",
      "metadata": {
        "id": "fmCe2iin6si0",
        "colab_type": "code",
        "colab": {},
        "outputId": "84f90e09-4f41-4211-c6c3-fe9dcb13baf1"
      },
      "source": [
        "# Imprimindo o terceiro elemento (lista de inteiros)\n",
        "listas[2]"
      ],
      "execution_count": null,
      "outputs": [
        {
          "output_type": "execute_result",
          "data": {
            "text/plain": [
              "[10, 100, 200]"
            ]
          },
          "metadata": {
            "tags": []
          },
          "execution_count": 5
        }
      ]
    },
    {
      "cell_type": "code",
      "metadata": {
        "id": "aCQzz1UY6si1",
        "colab_type": "code",
        "colab": {},
        "outputId": "8e80d4f2-3dee-4399-ebd6-00e2c17185b4"
      },
      "source": [
        "# Imprimindo o 1 carro da lista de carros\n",
        "listas[1][0]"
      ],
      "execution_count": null,
      "outputs": [
        {
          "output_type": "execute_result",
          "data": {
            "text/plain": [
              "'Audi'"
            ]
          },
          "metadata": {
            "tags": []
          },
          "execution_count": 6
        }
      ]
    },
    {
      "cell_type": "code",
      "metadata": {
        "id": "cvyOh1Dz6si3",
        "colab_type": "code",
        "colab": {},
        "outputId": "85fa962b-624b-48ac-d99c-2dc3578318a0"
      },
      "source": [
        "# Imprimindo o 2 carro da lista de carros\n",
        "listas[1][1]"
      ],
      "execution_count": null,
      "outputs": [
        {
          "output_type": "execute_result",
          "data": {
            "text/plain": [
              "'Ferrari'"
            ]
          },
          "metadata": {
            "tags": []
          },
          "execution_count": 7
        }
      ]
    },
    {
      "cell_type": "code",
      "metadata": {
        "id": "67tUcWRh6si4",
        "colab_type": "code",
        "colab": {},
        "outputId": "3e4fb1e2-a331-4cc2-d242-123ff1b27407"
      },
      "source": [
        "# Imprimindo o ultimo valor da lista de numeros\n",
        "listas[2][2]"
      ],
      "execution_count": null,
      "outputs": [
        {
          "output_type": "execute_result",
          "data": {
            "text/plain": [
              "200"
            ]
          },
          "metadata": {
            "tags": []
          },
          "execution_count": 8
        }
      ]
    },
    {
      "cell_type": "code",
      "metadata": {
        "id": "UdG4BmgJ6si5",
        "colab_type": "code",
        "colab": {},
        "outputId": "060e1c59-09f3-4bf3-b9de-e48e28a18b45"
      },
      "source": [
        "# Operacão de repetição de elementos de linhas alinhadas. listas[0] * 3"
      ],
      "execution_count": null,
      "outputs": [
        {
          "output_type": "execute_result",
          "data": {
            "text/plain": [
              "['cat', 'dog', 'snake', 'cat', 'dog', 'snake', 'cat', 'dog', 'snake']"
            ]
          },
          "metadata": {
            "tags": []
          },
          "execution_count": 9
        }
      ]
    },
    {
      "cell_type": "code",
      "metadata": {
        "id": "mBmlhe056si7",
        "colab_type": "code",
        "colab": {},
        "outputId": "e148acae-91ab-4a16-9e65-573be696f870"
      },
      "source": [
        "listas"
      ],
      "execution_count": null,
      "outputs": [
        {
          "output_type": "execute_result",
          "data": {
            "text/plain": [
              "[['cat', 'dog', 'snake'], ['Audi', 'Ferrari', 'Porsche'], [10, 100, 200]]"
            ]
          },
          "metadata": {
            "tags": []
          },
          "execution_count": 10
        }
      ]
    }
  ]
}